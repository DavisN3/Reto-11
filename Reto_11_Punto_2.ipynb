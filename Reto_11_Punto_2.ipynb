{
  "nbformat": 4,
  "nbformat_minor": 0,
  "metadata": {
    "colab": {
      "provenance": []
    },
    "kernelspec": {
      "name": "python3",
      "display_name": "Python 3"
    },
    "language_info": {
      "name": "python"
    }
  },
  "cells": [
    {
      "cell_type": "code",
      "execution_count": null,
      "metadata": {
        "id": "pZ1v2VTqFoia"
      },
      "outputs": [],
      "source": [
        "import requests\n",
        "\n",
        "def descarga(link):\n",
        "    respuesta = requests.get(link)\n",
        "    return respuesta.text\n",
        "\n",
        "def conteoPalabras(contenido):\n",
        "    vocales = \"aeiouAEIOU\"\n",
        "    consonantes = \"bcdfghjklmnpqrstvwxyzBCDFGHJKLMNPQRSTVWXYZ\"\n",
        "\n",
        "    conteoVocales = sum(1 for letra in contenido if letra in vocales)\n",
        "    conteoConsonantes = sum(1 for letra in contenido if letra in consonantes)\n",
        "\n",
        "    return conteoConsonantes, conteoVocales\n",
        "\n",
        "def palabrasMasUsadas(contenido):\n",
        "    contenido = contenido.lower()  # Convertir a minúsculas\n",
        "    numeros = \"1234567890\"\n",
        "    caracteres_especiales = \".,:;!?()[]{}<>\\\"'*-_/\\\\|@#$%^&+=\"\n",
        "\n",
        "    # Eliminar caracteres especiales y números\n",
        "    for caracter in caracteres_especiales + numeros:\n",
        "        contenido = contenido.replace(caracter, \" \")  # Reemplaza con espacio para evitar unir palabras\n",
        "\n",
        "    palabritasSinNumeros = contenido.split()  # Ahora sí dividimos correctamente en palabras\n",
        "\n",
        "    # Contar la frecuencia de cada palabra\n",
        "    conteo = {}\n",
        "    for palabra in palabritasSinNumeros:\n",
        "        if palabra in conteo:\n",
        "            conteo[palabra] += 1\n",
        "        else:\n",
        "            conteo[palabra] = 1\n",
        "\n",
        "    # Ordenar por frecuencia y devolver las 50 más usadas\n",
        "    palabrasOrdenadas = sorted(conteo.items(), key=lambda x: x[1], reverse=True)\n",
        "\n",
        "    return palabrasOrdenadas[:50]\n",
        "\n",
        "# Descargar el contenido\n",
        "link = 'https://www.py4e.com/code3/mbox.txt'\n",
        "contenido = descarga(link)\n",
        "\n",
        "# Obtener conteo de vocales y consonantes\n",
        "conteoConsonantes, conteoVocales = conteoPalabras(contenido)\n",
        "\n",
        "# Obtener las 50 palabras más usadas\n",
        "topPalabras = palabrasMasUsadas(contenido)\n",
        "\n",
        "# Imprimir resultados\n",
        "print(f\"Cantidad de vocales: {conteoVocales}\")\n",
        "print(f\"Cantidad de consonantes: {conteoConsonantes}\")\n",
        "print(\"Listado de 50 palabras más usadas:\")\n",
        "\n",
        "for palabra, frecuencia in topPalabras:\n",
        "    print(f\"{palabra}: {frecuencia}\")\n"
      ]
    }
  ]
}